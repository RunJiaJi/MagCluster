{
 "cells": [
  {
   "cell_type": "markdown",
   "source": [
    "# Tutorials\n",
    "This is a simple example to help you quickly start MagCluster journey. We use the genome of ***Candidatus* Magnetominusculus xianensis strain HCH-1** to show how it works. Candidatus Magnetominusculus xianensis strain HCH-1 is a metagenomic assembled genome ([see the paper](https://www.pnas.org/content/114/9/2171#:~:text=However%2C%20the%20origin%20of%20magnetotactic%20behavior%20remains%20a,the%20earliest%20magnetic-sensing%20and%20biomineralizing%20organisms%20on%20Earth.)) which we will refer to as HCH-1 in this tutorial. \n",
    "## Step 1: Obtaining data\n",
    "You can download genome data from NCBI.\n",
    "- HCH-1 [LNQR00000000](https://www.ncbi.nlm.nih.gov/Traces/wgs/LNQR01?display=contigs)\n",
    "- IT-1 [LVJN00000000](https://www.ncbi.nlm.nih.gov/Traces/wgs/LVJN01?display=contigs)"
   ],
   "metadata": {}
  },
  {
   "cell_type": "code",
   "execution_count": 2,
   "source": [
    "# check MagCluster version\r\n",
    "conda activate magcluster\r\n",
    "magcluster -v"
   ],
   "outputs": [
    {
     "output_type": "stream",
     "name": "stdout",
     "text": [
      "magcluster 0.1.8 \u001b[?2004l\n",
      " "
     ]
    },
    {
     "output_type": "error",
     "ename": "",
     "evalue": "1",
     "traceback": []
    }
   ],
   "metadata": {}
  },
  {
   "cell_type": "code",
   "execution_count": 3,
   "source": [
    "# Make a new folder\r\n",
    "mkdir magtest\r\n",
    "# Open magtest folder\r\n",
    "cd magtest"
   ],
   "outputs": [
    {
     "output_type": "stream",
     "name": "stdout",
     "text": [
      " \u001b[?2004l\u001b[?2004l\u001b[?2004l"
     ]
    },
    {
     "output_type": "error",
     "ename": "",
     "evalue": "1",
     "traceback": []
    }
   ],
   "metadata": {}
  },
  {
   "cell_type": "code",
   "execution_count": 4,
   "source": [
    "# Download genomes from NCBI\r\n",
    "wget https://sra-download.ncbi.nlm.nih.gov/traces/wgs03/wgs_aux/LN/QR/LNQR01/LNQR01.1.fsa_nt.gz\r\n",
    "wget https://sra-download.ncbi.nlm.nih.gov/traces/wgs03/wgs_aux/LV/JN/LVJN01/LVJN01.1.fsa_nt.gz"
   ],
   "outputs": [
    {
     "output_type": "stream",
     "name": "stdout",
     "text": [
      "Will not apply HSTS. The HSTS database must be a regular and non-world-writable file.\n",
      "ERROR: could not open HSTS store at '/home/edith/.wget-hsts'. HSTS will be disabled.\n",
      "--2021-09-12 22:21:45--  https://sra-download.ncbi.nlm.nih.gov/traces/wgs03/wgs_aux/LN/QR/LNQR01/LNQR01.1.fsa_nt.gz\n",
      "Resolving sra-download.ncbi.nlm.nih.gov (sra-download.ncbi.nlm.nih.gov)... 130.14.250.25, 130.14.250.24, 130.14.250.27\n",
      "Connecting to sra-download.ncbi.nlm.nih.gov (sra-download.ncbi.nlm.nih.gov)|130.14.250.25|:443... connected.\n",
      "HTTP request sent, awaiting response... 200 OK\n",
      "Length: 1119868 (1.1M) [application/octet-stream]\n",
      "Saving to: ‘LNQR01.1.fsa_nt.gz’\n",
      "\n",
      "LNQR01.1.fsa_nt.gz  100%[===================>]   1.07M   742KB/s    in 1.5s    \n",
      "\n",
      "2021-09-12 22:21:48 (742 KB/s) - ‘LNQR01.1.fsa_nt.gz’ saved [1119868/1119868]\n",
      "\n",
      "Will not apply HSTS. The HSTS database must be a regular and non-world-writable file.\n",
      "ERROR: could not open HSTS store at '/home/edith/.wget-hsts'. HSTS will be disabled.\n",
      "--2021-09-12 22:21:48--  https://sra-download.ncbi.nlm.nih.gov/traces/wgs03/wgs_aux/LV/JN/LVJN01/LVJN01.1.fsa_nt.gz\n",
      "Resolving sra-download.ncbi.nlm.nih.gov (sra-download.ncbi.nlm.nih.gov)... 165.112.9.235, 165.112.9.231, 165.112.9.232\n",
      "Connecting to sra-download.ncbi.nlm.nih.gov (sra-download.ncbi.nlm.nih.gov)|165.112.9.235|:443... connected.\n",
      "HTTP request sent, awaiting response... 200 OK\n",
      "Length: 1516495 (1.4M) [application/octet-stream]\n",
      "Saving to: ‘LVJN01.1.fsa_nt.gz’\n",
      "\n",
      "LVJN01.1.fsa_nt.gz  100%[===================>]   1.45M   370KB/s    in 4.0s    \n",
      "\n",
      "2021-09-12 22:21:53 (370 KB/s) - ‘LVJN01.1.fsa_nt.gz’ saved [1516495/1516495]\n",
      "\n",
      " "
     ]
    },
    {
     "output_type": "error",
     "ename": "",
     "evalue": "1",
     "traceback": []
    }
   ],
   "metadata": {}
  },
  {
   "cell_type": "code",
   "execution_count": 5,
   "source": [
    "# Check the genomes\r\n",
    "ls"
   ],
   "outputs": [
    {
     "output_type": "stream",
     "name": "stdout",
     "text": [
      "\u001b[0m\u001b[01;32mLNQR01.1.fsa_nt.gz\u001b[0m  \u001b[01;32mLVJN01.1.fsa_nt.gz\u001b[0m\n",
      " "
     ]
    },
    {
     "output_type": "error",
     "ename": "",
     "evalue": "1",
     "traceback": []
    }
   ],
   "metadata": {}
  },
  {
   "cell_type": "code",
   "execution_count": 6,
   "source": [
    "# Unzip files\r\n",
    "gunzip *.gz\r\n",
    "ls"
   ],
   "outputs": [
    {
     "output_type": "stream",
     "name": "stdout",
     "text": [
      "\u001b[0m\u001b[01;32mLNQR01.1.fsa_nt\u001b[0m  \u001b[01;32mLVJN01.1.fsa_nt\u001b[0m\n",
      " "
     ]
    },
    {
     "output_type": "error",
     "ename": "",
     "evalue": "1",
     "traceback": []
    }
   ],
   "metadata": {}
  },
  {
   "cell_type": "code",
   "execution_count": 7,
   "source": [
    "# Rename the genomes\r\n",
    "mv LNQR01.1.fsa_nt HCH-1.fasta\r\n",
    "mv LVJN01.1.fsa_nt IT-1.fasta\r\n",
    "ls"
   ],
   "outputs": [
    {
     "output_type": "stream",
     "name": "stdout",
     "text": [
      "\u001b[0m\u001b[01;32mHCH-1.fasta\u001b[0m  \u001b[01;32mIT-1.fasta\u001b[0m\n",
      " "
     ]
    },
    {
     "output_type": "error",
     "ename": "",
     "evalue": "1",
     "traceback": []
    }
   ],
   "metadata": {}
  },
  {
   "cell_type": "markdown",
   "source": [
    "## Step 2: Genome annotation\n",
    "We recommand the `evalue` to be set as 1e-05. Note that the `--outdir`, `--prefix`, `--locustag` and `--compliant` parameters are used by default. The reference MGCs file that we provide is also used with `--proteins`.\n",
    "\n",
    "This step should take a while and you can check the log file for details."
   ],
   "metadata": {}
  },
  {
   "cell_type": "code",
   "execution_count": 8,
   "source": [
    "magcluster prokka --evalue 1e-05 . "
   ],
   "outputs": [
    {
     "output_type": "stream",
     "name": "stdout",
     "text": [
      "\u001b[?2004l\r\n",
      " "
     ]
    },
    {
     "output_type": "error",
     "ename": "",
     "evalue": "1",
     "traceback": []
    }
   ],
   "metadata": {}
  },
  {
   "cell_type": "code",
   "execution_count": 9,
   "source": [
    "# Move `.gbk` files to a new folder\r\n",
    "mkdir gbkfolder\r\n",
    "mv -v */*.gbk gbkfolder/"
   ],
   "outputs": [
    {
     "output_type": "stream",
     "name": "stdout",
     "text": [
      "renamed 'HCH-1_annotation/HCH-1.gbk' -> 'gbkfolder/HCH-1.gbk'\n",
      "renamed 'IT-1_annotation/IT-1.gbk' -> 'gbkfolder/IT-1.gbk'\n",
      " "
     ]
    },
    {
     "output_type": "error",
     "ename": "",
     "evalue": "1",
     "traceback": []
    }
   ],
   "metadata": {
    "scrolled": true
   }
  },
  {
   "cell_type": "markdown",
   "source": [
    "## Step 3: MGCs screening\n",
    "Now that we have `HCH-1.gbk` and `IT-1.gbk`, let's start MGCs screening!"
   ],
   "metadata": {}
  },
  {
   "cell_type": "code",
   "execution_count": 10,
   "source": [
    "magcluster mgc_screen gbkfolder -o mgcfolder"
   ],
   "outputs": [
    {
     "output_type": "stream",
     "name": "stdout",
     "text": [
      "[22:30:40] INFO - Starting mgc_screen...\n",
      "[22:30:40] INFO - Your file is HCH-1.gbk\n",
      "[22:30:40] INFO - The minimum length of contigs to be considered is 2000\n",
      "[22:30:40] INFO - The maxmum length of contigs to be considered is 10000\n",
      "[22:30:40] INFO - The threshold of magnetosome genes in one contig is 3\n",
      "[22:30:40] INFO - The output directory is /mnt/c/Users/edith/Desktop/test/magtest/mgcfolder/\n",
      "[22:30:40] INFO - Opening your file...\n",
      "[22:30:40] INFO - Starting magnetosome genes screening...\n",
      "[22:30:40] INFO - Magnetosome gene cluster containing contigs screening completed!\n",
      "[22:30:40] INFO - Creating output folder: /mnt/c/Users/edith/Desktop/test/magtest/mgcfolder/\n",
      "[22:30:40] INFO - Writing mgc.gbk file...\n",
      "[22:30:40] INFO - Writing magpro.csv file(s)...\n",
      "[22:30:40] INFO - Starting mgc_screen...\n",
      "[22:30:40] INFO - Your file is IT-1.gbk\n",
      "[22:30:40] INFO - The minimum length of contigs to be considered is 2000\n",
      "[22:30:40] INFO - The maxmum length of contigs to be considered is 10000\n",
      "[22:30:40] INFO - The threshold of magnetosome genes in one contig is 3\n",
      "[22:30:40] INFO - The output directory is /mnt/c/Users/edith/Desktop/test/magtest/mgcfolder/\n",
      "[22:30:40] INFO - Opening your file...\n",
      "[22:30:40] INFO - Starting magnetosome genes screening...\n",
      "[22:30:41] INFO - Magnetosome gene cluster containing contigs screening completed!\n",
      "[22:30:41] INFO - /mnt/c/Users/edith/Desktop/test/magtest/mgcfolder/ folder already exists! Skip to next step\n",
      "[22:30:41] INFO - Writing mgc.gbk file...\n",
      "[22:30:41] INFO - Writing magpro.csv file(s)...\n",
      "[22:30:41] INFO - Done! Thank you!\n",
      " "
     ]
    },
    {
     "output_type": "error",
     "ename": "",
     "evalue": "1",
     "traceback": []
    }
   ],
   "metadata": {}
  },
  {
   "cell_type": "code",
   "execution_count": 11,
   "source": [
    "ls mgcfolder"
   ],
   "outputs": [
    {
     "output_type": "stream",
     "name": "stdout",
     "text": [
      "\u001b[0m\u001b[01;32mHCH-1_magpro.csv\u001b[0m  \u001b[01;32mHCH-1_mgc.gbk\u001b[0m  \u001b[01;32mIT-1_magpro.csv\u001b[0m  \u001b[01;32mIT-1_mgc.gbk\u001b[0m\n",
      " "
     ]
    },
    {
     "output_type": "error",
     "ename": "",
     "evalue": "1",
     "traceback": []
    }
   ],
   "metadata": {}
  },
  {
   "cell_type": "markdown",
   "source": [
    "Good job! Now you can open the `.csv` files to check the magnetosome protein sequences.\n",
    "![HCH-1_magpro.csv](docs/_static/HCH-1.PNG)"
   ],
   "metadata": {}
  },
  {
   "cell_type": "markdown",
   "source": [
    "## Step 3: MGCs visualization\n",
    "Final step! We are almost there! \n",
    "\n",
    "Use Clinker to generate a MGCs figure. We recommand to use the `-o` parameter to generate a MGCs alignment file where you can browse the homologous gene similarities among genomes.\n",
    "\n",
    "Be Careful! If there is complete genome(s) in your dataset, the alignment process will take unreasonable time. In that case, we recommand you skip the alignment process with `-na` (no alignment) parameter."
   ],
   "metadata": {}
  },
  {
   "cell_type": "code",
   "execution_count": 12,
   "source": [
    "magcluster clinker -o mgc_align.txt -p mgc_align.html mgcfolder/*.gbk"
   ],
   "outputs": [
    {
     "output_type": "stream",
     "name": "stdout",
     "text": [
      "[22:31:00] INFO - Starting clinker\n",
      "[22:31:00] INFO - Parsing files:\n",
      "[22:31:00] INFO -   HCH-1_mgc.gbk\n",
      "[22:31:00] INFO -   IT-1_mgc.gbk\n",
      "[22:31:00] INFO - Starting cluster alignments\n",
      "[22:31:00] INFO - HCH-1_mgc vs IT-1_mgc\n",
      "[22:31:16] INFO - Generating results summary...\n",
      "[22:31:16] INFO - Writing alignments to: mgc_align.txt\n",
      "[22:31:16] INFO - Building clustermap.js visualisation\n",
      "[22:31:16] INFO - Writing to: mgc_align.html\n",
      "[22:31:17] INFO - Done!\n"
     ]
    }
   ],
   "metadata": {
    "scrolled": true
   }
  },
  {
   "cell_type": "markdown",
   "source": [
    "Congratulations! Now you should have an interactive html opened in your browser. You can adjust the figure as you like and export it as a `.svg` file."
   ],
   "metadata": {}
  },
  {
   "cell_type": "markdown",
   "source": [
    "![MGCs.html](docs/_static/MGCs_figure.PNG)"
   ],
   "metadata": {}
  },
  {
   "cell_type": "markdown",
   "source": [],
   "metadata": {}
  }
 ],
 "metadata": {
  "kernelspec": {
   "display_name": "Bash",
   "language": "bash",
   "name": "bash"
  },
  "language_info": {
   "codemirror_mode": "shell",
   "file_extension": ".sh",
   "mimetype": "text/x-sh",
   "name": "bash"
  }
 },
 "nbformat": 4,
 "nbformat_minor": 5
}