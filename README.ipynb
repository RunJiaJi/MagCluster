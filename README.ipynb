{
 "cells": [
  {
   "cell_type": "markdown",
   "source": [
    "# MagCluster\r\n",
    "![Anaconda.org](\r\n",
    "https://anaconda.org/bioconda/magcluster/badges/version.svg) ![License](https://anaconda.org/bioconda/magcluster/badges/license.svg) ![Downloads](https://anaconda.org/bioconda/magcluster/badges/downloads.svg) ![Install](https://anaconda.org/bioconda/magcluster/badges/installer/conda.svg) ![Last update](\r\n",
    "https://anaconda.org/bioconda/magcluster/badges/latest_release_date.svg)\r\n",
    "\r\n",
    "MagCluster is a tool for identification, annotation and visualization of magnetosome gene clusters (MGCs) from genomes of magnetotactic bacteria (MTB).\r\n",
    "\r\n",
    "## Contents\r\n",
    "- [Installation](#installation)\r\n",
    "  - [Conda](#conda)\r\n",
    "  - [Bioconda](#bioconda)\r\n",
    "  - [Pip](#pip)\r\n",
    "- [Usage](#usage)\r\n",
    "  - [Genomes annotation](#genomes-annotation)\r\n",
    "  - [MGCs screening](#MGCs-screening)\r\n",
    "  - [MGCs alignment and visualization](#MGCs-alignment-and-visualization)\r\n",
    "- [Tutorials](#tutorials)\r\n",
    "- [Citation](#Citation)\r\n",
    "- [Contact us](#contact-us)\r\n",
    "---\r\n",
    "\r\n",
    "## Installation\r\n",
    "\r\n",
    "### Conda\r\n",
    "MagCluster can be installed through [Conda](https://www.anaconda.com/products/individual). We recommend creating a ***new environment*** for MagCluster to avoid dependency conflicts.\r\n",
    "\r\n",
    "```bash\r\n",
    "wget https://github.com/RunJiaJi/magcluster/releases/download/0.1.8/magcluster-0.1.8.yml\r\n",
    "conda env create -n magcluster --file magcluster-0.1.8.yml\r\n",
    "\r\n",
    "# Optinal cleanup\r\n",
    "rm magcluster-0.1.8.yml\r\n",
    "\r\n",
    "# Activate magcluster environment\r\n",
    "conda activate magcluster\r\n",
    "\r\n",
    "# Check for the usage of MagCluster\r\n",
    "magcluster -h\r\n",
    "```\r\n",
    "### Bioconda\r\n",
    "```bash\r\n",
    "# Create magcluster environment\r\n",
    "conda create -n magcluster\r\n",
    "\r\n",
    "# Activate magcluster environment\r\n",
    "conda activate magcluster\r\n",
    "\r\n",
    "# Install MagCluster through bioconda channel\r\n",
    "conda install -c conda-forge -c bioconda -c defaults blast=2.9 prokka=1.13.4 magcluster=0.1.8\r\n",
    "\r\n",
    "# Check for the usage of MagCluster\r\n",
    "magcluster -h\r\n",
    "```\r\n",
    "### Pip\r\n",
    "Alternatively, you can install MagCluster through pip in an existing environment. In this way, please make sure you have [Prokka](https://github.com/tseemann/prokka) installed.\r\n",
    "\r\n",
    "```bash\r\n",
    "# Install MagCluster through pip\r\n",
    "pip install magcluster\r\n",
    "\r\n",
    "# Check for the usage of MagCluster\r\n",
    "magcluster -h\r\n",
    "```\r\n",
    "\r\n",
    "## Usage\r\n",
    "\r\n",
    "\r\n",
    "MagCluster comprises three modules for MGCs batch processing: \r\n",
    "(i) MTB genomes annotation with [Prokka](https://github.com/tseemann/prokka)\r\n",
    "(ii) MGCs screening with MGC_Screen\r\n",
    "(iii) MGCs visualization with [Clinker](https://github.com/gamcil/clinker)\r\n",
    "\r\n",
    "\r\n",
    "```bash\r\n",
    "usage: magcluster [options]\r\n",
    "\r\n",
    "Options:\r\n",
    "  {prokka,mgc_screen,clinker}\r\n",
    "    prokka              Genome annotation with Prokka\r\n",
    "    mgc_screen          Magnetosome gene cluster screening with MGC_Screen\r\n",
    "    clinker             Magnetosome gene cluster visualization with Clinker\r\n",
    "```\r\n",
    "#### Genomes annotation\r\n",
    " **Multiple genome files** or **genome-containing folder(s)** are accepted as input for batch annotation. The general usage is same as Prokka yet some parameters are set with default value for genomes batch annotation.\r\n",
    "\r\n",
    "To avoid confusion, the name of each genome is used as the output folder’s name (`--outdir GENOME_NAME`), output files’ prefix (`--prefix GENOME_NAME`), and GenBank file’s locus_tag (`--locustag GENOME_NAME`) by default. The `--compliant` parameter is also used by default to ensure standard GenBank files. \r\n",
    "\r\n",
    "For MGCs annotation, we provide a [reference MGCs file](https://github.com/RunJiaJi/magcluster/releases/download/v1.0/Magnetosome_protein_data.fasta.faa) containing magnetosome protein sequences from representative MTB strains which is attached to MagCluster and used by default. The value of `--evalue` is recommended to set to 1e-05.\r\n",
    "```bash\r\n",
    "example usage: \r\n",
    "\r\n",
    "# MGCs annotation with multiple MTB genomes as input\r\n",
    "$ magcluster prokka --evalue 1e-05 --proteins Magnetosome_protein_data.fasta MTB_genome1.fasta MTB_genome2.fasta MTB_genome3.fasta\r\n",
    "\r\n",
    "# MGCs annotation with MTB genomes containing folder as input\r\n",
    "$ magcluster prokka --evalue 1e-05 --proteins Magnetosome_protein_data.fasta /MTB_genomes_folder\r\n",
    "```\r\n",
    "#### MGCs screening\r\n",
    "MGC_Screen module retrieves MGC-containing contigs/scaffolds in GenBank files. As magnetosome genes are always physically clustered in MTB genomes, MGC_Screen identify MGC based on the number of magnetosome genes gathered. \r\n",
    "Three parameters involved in MGC screening, `--contiglength`, `--windowsize` and `--threshold` (see below). You can adjust them according to needs. \r\n",
    "For each genome, MGC_Screen produces two files as output: a *GenBank file of MGCs containing contigs* and a *csv file summarizing all magnetosome protein sequences*.\r\n",
    "```bash\r\n",
    "\r\n",
    "usage: magcluster mgc_screen [-h] [-l CONTIGLENGTH] [-win WINDOWSIZE] [-th THRESHOLD] [-o OUTDIR] gbkfile [gbkfile ...]\r\n",
    "\r\n",
    "positional arguments:\r\n",
    "  gbkfile               .gbk/.gbf files to analyzed. Multiple files or files-containing folder is acceptable.\r\n",
    "\r\n",
    "optional arguments:\r\n",
    "  -h, --help            show this help message and exit\r\n",
    "  -l CONTIGLENGTH, --contiglength CONTIGLENGTH\r\n",
    "                        The minimum size of a contig for screening (default '2,000 bp')\r\n",
    "  -w WINDOWSIZE, --windowsize WINDOWSIZE\r\n",
    "                        The window size in the text mining of magnetosome proteins (default '10,000 bp')\r\n",
    "  -th THRESHOLD, --threshold THRESHOLD\r\n",
    "                        The minimum number of magnetosome genes existed in a window size (default '3')\r\n",
    "  -o OUTDIR, --outdir OUTDIR\r\n",
    "                        Output folder (default 'mgc_screen')\r\n",
    "```\r\n",
    "```bash\r\n",
    "example usage: \r\n",
    "\r\n",
    "# MGCs screening with multiple GenBank files as input\r\n",
    "$ magcluster mgc_screen --threshold 3 --contiglength 2000 --windowsize 10000 file1.gbk file2.gbk file3.gbk\r\n",
    "\r\n",
    "# MGCs screening with GenBank files containing folder as input\r\n",
    "$ magcluster mgc_screen --threshold 3 --contiglength 2000 --windowsize 10000 /gbkfiles_folder\r\n",
    "```\r\n",
    "#### MGCs alignment and visualization\r\n",
    "We use [Clinker](https://github.com/gamcil/clinker) for MGCs alignment and visualization. Note that the `-p` parameter is used by default to generate an interactive HTML web page where you can modify the MGCs figure and export it as a publication-quality file.\r\n",
    "\r\n",
    "```bash\r\n",
    "example usage: \r\n",
    "\r\n",
    "# MGCs screening with multiple GenBank files as input\r\n",
    "$ magcluster clinker -p MGC_align.html /MGCs_files_folder/*.gbk\r\n",
    "```"
   ],
   "metadata": {}
  },
  {
   "cell_type": "markdown",
   "source": [
    "# Tutorials\r\n",
    "This is a simple example to help you quickly start MagCluster journey. We use the genomes of ***Candidatus* Magnetominusculus xianensis strain HCH-1** ([see the paper](https://www.pnas.org/content/pnas/114/9/2171.full.pdf)) and ***Magnetofaba australis* IT-1** ([see the paper](https://www.frontiersin.org/articles/10.3389/fmicb.2014.00072/full)) to show how it works.\r\n",
    "## Step 0: Prepare MagCluster\r\n",
    "To start our journey, make sure you have a working MagCluster in your system.\r\n",
    "\r\n",
    "For installation informations, please check [Installation](https://github.com/RunJiaJi/MagCluster#installation)."
   ],
   "metadata": {}
  },
  {
   "cell_type": "code",
   "execution_count": 1,
   "source": [
    "# Activate magcluster environment\r\n",
    "conda activate magcluster\r\n",
    "# Check MagCluster version\r\n",
    "magcluster -v"
   ],
   "outputs": [
    {
     "output_type": "stream",
     "name": "stdout",
     "text": [
      "magcluster 0.1.8 \u001b[?2004l\n",
      " "
     ]
    },
    {
     "output_type": "error",
     "ename": "",
     "evalue": "1",
     "traceback": []
    }
   ],
   "metadata": {}
  },
  {
   "cell_type": "markdown",
   "source": [
    "## Step 1: Obtaining data\r\n",
    "You can download genome data from NCBI.\r\n",
    "- HCH-1 [LNQR00000000](https://www.ncbi.nlm.nih.gov/Traces/wgs/LNQR01?display=download)\r\n",
    "- IT-1 [LVJN00000000](https://www.ncbi.nlm.nih.gov/Traces/wgs/LVJN01?display=download)"
   ],
   "metadata": {}
  },
  {
   "cell_type": "code",
   "execution_count": 2,
   "source": [
    "# Make a new folder\r\n",
    "mkdir magtest\r\n",
    "# Open magtest folder\r\n",
    "cd magtest"
   ],
   "outputs": [
    {
     "output_type": "stream",
     "name": "stdout",
     "text": [
      " \u001b[?2004l\u001b[?2004l\u001b[?2004l"
     ]
    },
    {
     "output_type": "error",
     "ename": "",
     "evalue": "1",
     "traceback": []
    }
   ],
   "metadata": {}
  },
  {
   "cell_type": "code",
   "execution_count": 3,
   "source": [
    "# Download genomes from NCBI\r\n",
    "wget https://sra-download.ncbi.nlm.nih.gov/traces/wgs03/wgs_aux/LN/QR/LNQR01/LNQR01.1.fsa_nt.gz\r\n",
    "wget https://sra-download.ncbi.nlm.nih.gov/traces/wgs03/wgs_aux/LV/JN/LVJN01/LVJN01.1.fsa_nt.gz"
   ],
   "outputs": [
    {
     "output_type": "stream",
     "name": "stdout",
     "text": [
      "Will not apply HSTS. The HSTS database must be a regular and non-world-writable file.\n",
      "--2021-09-12 22:21:45--  https://sra-download.ncbi.nlm.nih.gov/traces/wgs03/wgs_aux/LN/QR/LNQR01/LNQR01.1.fsa_nt.gz\n",
      "Resolving sra-download.ncbi.nlm.nih.gov (sra-download.ncbi.nlm.nih.gov)... 130.14.250.25, 130.14.250.24, 130.14.250.27\n",
      "Connecting to sra-download.ncbi.nlm.nih.gov (sra-download.ncbi.nlm.nih.gov)|130.14.250.25|:443... connected.\n",
      "HTTP request sent, awaiting response... 200 OK\n",
      "Length: 1119868 (1.1M) [application/octet-stream]\n",
      "Saving to: ‘LNQR01.1.fsa_nt.gz’\n",
      "\n",
      "LNQR01.1.fsa_nt.gz  100%[===================>]   1.07M   742KB/s    in 1.5s    \n",
      "\n",
      "2021-09-12 22:21:48 (742 KB/s) - ‘LNQR01.1.fsa_nt.gz’ saved [1119868/1119868]\n",
      "\n",
      "Will not apply HSTS. The HSTS database must be a regular and non-world-writable file.\n",
      "--2021-09-12 22:21:48--  https://sra-download.ncbi.nlm.nih.gov/traces/wgs03/wgs_aux/LV/JN/LVJN01/LVJN01.1.fsa_nt.gz\n",
      "Resolving sra-download.ncbi.nlm.nih.gov (sra-download.ncbi.nlm.nih.gov)... 165.112.9.235, 165.112.9.231, 165.112.9.232\n",
      "Connecting to sra-download.ncbi.nlm.nih.gov (sra-download.ncbi.nlm.nih.gov)|165.112.9.235|:443... connected.\n",
      "HTTP request sent, awaiting response... 200 OK\n",
      "Length: 1516495 (1.4M) [application/octet-stream]\n",
      "Saving to: ‘LVJN01.1.fsa_nt.gz’\n",
      "\n",
      "LVJN01.1.fsa_nt.gz  100%[===================>]   1.45M   370KB/s    in 4.0s    \n",
      "\n",
      "2021-09-12 22:21:53 (370 KB/s) - ‘LVJN01.1.fsa_nt.gz’ saved [1516495/1516495]\n",
      "\n",
      " "
     ]
    },
    {
     "output_type": "error",
     "ename": "",
     "evalue": "1",
     "traceback": []
    }
   ],
   "metadata": {}
  },
  {
   "cell_type": "code",
   "execution_count": 4,
   "source": [
    "# Check the genome files\r\n",
    "ls"
   ],
   "outputs": [
    {
     "output_type": "stream",
     "name": "stdout",
     "text": [
      "\u001b[0m\u001b[01;32mLNQR01.1.fsa_nt.gz\u001b[0m  \u001b[01;32mLVJN01.1.fsa_nt.gz\u001b[0m\n",
      " "
     ]
    },
    {
     "output_type": "error",
     "ename": "",
     "evalue": "1",
     "traceback": []
    }
   ],
   "metadata": {}
  },
  {
   "cell_type": "code",
   "execution_count": 5,
   "source": [
    "# Unzip files\r\n",
    "gunzip *.gz\r\n",
    "ls"
   ],
   "outputs": [
    {
     "output_type": "stream",
     "name": "stdout",
     "text": [
      "\u001b[0m\u001b[01;32mLNQR01.1.fsa_nt\u001b[0m  \u001b[01;32mLVJN01.1.fsa_nt\u001b[0m\n",
      " "
     ]
    },
    {
     "output_type": "error",
     "ename": "",
     "evalue": "1",
     "traceback": []
    }
   ],
   "metadata": {}
  },
  {
   "cell_type": "code",
   "execution_count": 6,
   "source": [
    "# Rename the genomes\r\n",
    "mv LNQR01.1.fsa_nt HCH-1.fasta\r\n",
    "mv LVJN01.1.fsa_nt IT-1.fasta\r\n",
    "ls"
   ],
   "outputs": [
    {
     "output_type": "stream",
     "name": "stdout",
     "text": [
      "\u001b[0m\u001b[01;32mHCH-1.fasta\u001b[0m  \u001b[01;32mIT-1.fasta\u001b[0m\n",
      " "
     ]
    },
    {
     "output_type": "error",
     "ename": "",
     "evalue": "1",
     "traceback": []
    }
   ],
   "metadata": {}
  },
  {
   "cell_type": "markdown",
   "source": [
    "## Step 2: Genome annotation\r\n",
    "We recommand the `evalue` to be set as 1e-05. Note that the `--outdir`, `--prefix`, `--locustag` and `--compliant` parameters are used by default. The reference MGCs file that we provide is also used with `--proteins`.\r\n",
    "\r\n",
    "This step should take a while and you can check the log file for details."
   ],
   "metadata": {}
  },
  {
   "cell_type": "code",
   "execution_count": 7,
   "source": [
    "magcluster prokka --evalue 1e-05 . "
   ],
   "outputs": [
    {
     "output_type": "stream",
     "name": "stdout",
     "text": [
      "\u001b[?2004l\r\n",
      " "
     ]
    },
    {
     "output_type": "error",
     "ename": "",
     "evalue": "1",
     "traceback": []
    }
   ],
   "metadata": {}
  },
  {
   "cell_type": "code",
   "execution_count": 8,
   "source": [
    "# Move `.gbk` files to a new folder\r\n",
    "mkdir gbkfolder\r\n",
    "mv -v */*.gbk gbkfolder/"
   ],
   "outputs": [
    {
     "output_type": "stream",
     "name": "stdout",
     "text": [
      "renamed 'HCH-1_annotation/HCH-1.gbk' -> 'gbkfolder/HCH-1.gbk'\n",
      "renamed 'IT-1_annotation/IT-1.gbk' -> 'gbkfolder/IT-1.gbk'\n",
      " "
     ]
    },
    {
     "output_type": "error",
     "ename": "",
     "evalue": "1",
     "traceback": []
    }
   ],
   "metadata": {
    "scrolled": true
   }
  },
  {
   "cell_type": "markdown",
   "source": [
    "## Step 3: MGCs screening\r\n",
    "Now that we have `HCH-1.gbk` and `IT-1.gbk`, let's start MGCs screening!"
   ],
   "metadata": {}
  },
  {
   "cell_type": "code",
   "execution_count": 9,
   "source": [
    "magcluster mgc_screen gbkfolder -o mgcfolder"
   ],
   "outputs": [
    {
     "output_type": "stream",
     "name": "stdout",
     "text": [
      "[22:30:40] INFO - Starting mgc_screen...\n",
      "[22:30:40] INFO - Your file is HCH-1.gbk\n",
      "[22:30:40] INFO - The minimum length of contigs to be considered is 2000\n",
      "[22:30:40] INFO - The maxmum length of contigs to be considered is 10000\n",
      "[22:30:40] INFO - The threshold of magnetosome genes in one contig is 3\n",
      "[22:30:40] INFO - The output directory is /mnt/c/Users/edith/Desktop/test/magtest/mgcfolder/\n",
      "[22:30:40] INFO - Opening your file...\n",
      "[22:30:40] INFO - Starting magnetosome genes screening...\n",
      "[22:30:40] INFO - Magnetosome gene cluster containing contigs screening completed!\n",
      "[22:30:40] INFO - Creating output folder: /mnt/c/Users/edith/Desktop/test/magtest/mgcfolder/\n",
      "[22:30:40] INFO - Writing mgc.gbk file...\n",
      "[22:30:40] INFO - Writing magpro.csv file(s)...\n",
      "[22:30:40] INFO - Starting mgc_screen...\n",
      "[22:30:40] INFO - Your file is IT-1.gbk\n",
      "[22:30:40] INFO - The minimum length of contigs to be considered is 2000\n",
      "[22:30:40] INFO - The maxmum length of contigs to be considered is 10000\n",
      "[22:30:40] INFO - The threshold of magnetosome genes in one contig is 3\n",
      "[22:30:40] INFO - The output directory is /mnt/c/Users/edith/Desktop/test/magtest/mgcfolder/\n",
      "[22:30:40] INFO - Opening your file...\n",
      "[22:30:40] INFO - Starting magnetosome genes screening...\n",
      "[22:30:41] INFO - Magnetosome gene cluster containing contigs screening completed!\n",
      "[22:30:41] INFO - /mnt/c/Users/edith/Desktop/test/magtest/mgcfolder/ folder already exists! Skip to next step\n",
      "[22:30:41] INFO - Writing mgc.gbk file...\n",
      "[22:30:41] INFO - Writing magpro.csv file(s)...\n",
      "[22:30:41] INFO - Done! Thank you!\n",
      " "
     ]
    },
    {
     "output_type": "error",
     "ename": "",
     "evalue": "1",
     "traceback": []
    }
   ],
   "metadata": {}
  },
  {
   "cell_type": "code",
   "execution_count": 10,
   "source": [
    "ls mgcfolder"
   ],
   "outputs": [
    {
     "output_type": "stream",
     "name": "stdout",
     "text": [
      "\u001b[0m\u001b[01;32mHCH-1_magpro.csv\u001b[0m  \u001b[01;32mHCH-1_mgc.gbk\u001b[0m  \u001b[01;32mIT-1_magpro.csv\u001b[0m  \u001b[01;32mIT-1_mgc.gbk\u001b[0m\n",
      " "
     ]
    },
    {
     "output_type": "error",
     "ename": "",
     "evalue": "1",
     "traceback": []
    }
   ],
   "metadata": {}
  },
  {
   "cell_type": "markdown",
   "source": [
    "Good job! Now you can open the `.csv` files to check the magnetosome protein sequences.\r\n",
    "![HCH-1_magpro.csv](docs/_static/HCH-1.PNG)"
   ],
   "metadata": {}
  },
  {
   "cell_type": "markdown",
   "source": [
    "## Step 4: MGCs visualization\r\n",
    "Final step! We are almost there! \r\n",
    "\r\n",
    "Use Clinker to generate a MGCs figure. We recommand to use the `-o` parameter to generate a MGCs alignment file where you can browse the homologous gene similarities among genomes.\r\n",
    "\r\n",
    "Be Careful! If there is complete genome(s) in your dataset, the alignment process will take unreasonable time. In that case, we recommand you skip the alignment process with `-na` (no alignment) parameter."
   ],
   "metadata": {}
  },
  {
   "cell_type": "code",
   "execution_count": 11,
   "source": [
    "magcluster clinker -o mgc_align.txt -p mgc_align.html mgcfolder/*.gbk"
   ],
   "outputs": [
    {
     "output_type": "stream",
     "name": "stdout",
     "text": [
      "[22:31:00] INFO - Starting clinker\n",
      "[22:31:00] INFO - Parsing files:\n",
      "[22:31:00] INFO -   HCH-1_mgc.gbk\n",
      "[22:31:00] INFO -   IT-1_mgc.gbk\n",
      "[22:31:00] INFO - Starting cluster alignments\n",
      "[22:31:00] INFO - HCH-1_mgc vs IT-1_mgc\n",
      "[22:31:16] INFO - Generating results summary...\n",
      "[22:31:16] INFO - Writing alignments to: mgc_align.txt\n",
      "[22:31:16] INFO - Building clustermap.js visualisation\n",
      "[22:31:16] INFO - Writing to: mgc_align.html\n",
      "[22:31:17] INFO - Done!\n"
     ]
    }
   ],
   "metadata": {
    "scrolled": true
   }
  },
  {
   "cell_type": "markdown",
   "source": [
    "Congratulations! Now you should have an interactive html opened in your browser. You can adjust the figure as you like and export it as a `.svg` file."
   ],
   "metadata": {}
  },
  {
   "cell_type": "markdown",
   "source": [
    "![MGCs.html](docs/_static/MGCs_figure.PNG)"
   ],
   "metadata": {}
  },
  {
   "cell_type": "markdown",
   "source": [
    "## Citation\r\n",
    "The manuscript is in preparation.\r\n",
    "\r\n",
    "## Contact us\r\n",
    "If you have any questions or suggestions, feel free to contact us.\r\n",
    "\r\n",
    "jirunjia@gmail.com or weilin@mail.iggcas.ac.cn"
   ],
   "metadata": {}
  }
 ],
 "metadata": {
  "kernelspec": {
   "display_name": "Bash",
   "language": "bash",
   "name": "bash"
  },
  "language_info": {
   "codemirror_mode": "shell",
   "file_extension": ".sh",
   "mimetype": "text/x-sh",
   "name": "bash"
  }
 },
 "nbformat": 4,
 "nbformat_minor": 5
}